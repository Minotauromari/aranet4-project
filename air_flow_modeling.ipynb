{
 "cells": [
  {
   "cell_type": "markdown",
   "metadata": {},
   "source": [
    "Air containing 0.06% CO2 is pumped into a room whose volume is 8000 ft^3. The air pumped in at a rate of 2000 ft^3 /min, and the circulated air is then pumped out at the same rate. If there is an initial concentration of 0.2% CO2 in the room, determine the subsequent amount in the room at time t. What is the concentration of CO2 at 10 minutes? What is the steady state, or equilibrium, concentration of CO2?"
   ]
  },
  {
   "cell_type": "markdown",
   "metadata": {},
   "source": [
    "To solve this problem, we can set up a differential equation based on the rate of change of CO2 concentration in the room.\n",
    "\n",
    "Let \\(C(t)\\) be the concentration of CO2 in the room at time \\(t\\) (expressed as a decimal, so 0.2% would be 0.002). The volume of the room is \\(V = 8000\\) ft³, and the rate of air flow into and out of the room is \\(Q = 2000\\) ft³/min. The concentration of CO2 in the incoming air is \\(C_{\\text{in}} = 0.06\\% = 0.0006\\).\n",
    "\n",
    "The rate of change of the amount of CO2 in the room is given by the difference between the rate at which CO2 is added to the room and the rate at which it is removed:\n",
    "\n",
    "\\[\n",
    "\\frac{d(CV)}{dt} = Q C_{\\text{in}} - Q C(t)\n",
    "\\]\n",
    "\n",
    "Since the volume \\(V\\) is constant, we can simplify this to:\n",
    "\n",
    "\\[\n",
    "V \\frac{dC}{dt} = Q (C_{\\text{in}} - C(t))\n",
    "\\]\n",
    "\n",
    "\\[\n",
    "\\frac{dC}{dt} = \\frac{Q}{V} (C_{\\text{in}} - C(t))\n",
    "\\]\n",
    "\n",
    "Now we can solve this first-order linear differential equation. The general solution is:\n",
    "\n",
    "\\[\n",
    "C(t) = C_{\\text{in}} + (C_0 - C_{\\text{in}}) e^{-\\frac{Q}{V}t}\n",
    "\\]\n",
    "\n",
    "where \\(C_0\\) is the initial concentration of CO2 in the room (0.2% or 0.002).\n",
    "\n",
    "To find the concentration of CO2 at 10 minutes, we can substitute \\(t = 10\\), \\(Q = 2000\\), \\(V = 8000\\), \\(C_{\\text{in}} = 0.0006\\), and \\(C_0 = 0.002\\) into the equation:\n",
    "\n",
    "\\[\n",
    "C(10) = 0.0006 + (0.002 - 0.0006) e^{-\\frac{2000}{8000} \\times 10}\n",
    "\\]\n",
    "\n",
    "\\[\n",
    "C(10) = 0.0006 + 0.0014 e^{-2.5}\n",
    "\\]\n",
    "\n",
    "\\[\n",
    "C(10) \\approx 0.0006 + 0.0014 \\times 0.08208\n",
    "\\]\n",
    "\n",
    "\\[\n",
    "C(10) \\approx 0.0006 + 0.000115\n",
    "\\]\n",
    "\n",
    "\\[\n",
    "C(10) \\approx 0.000715\n",
    "\\]\n",
    "\n",
    "So, the concentration of CO2 at 10 minutes is approximately 0.0715%.\n",
    "\n",
    "The steady-state, or equilibrium, concentration of CO2 occurs when the rate of change of CO2 concentration is zero, i.e., when \\(\\frac{dC}{dt} = 0\\). From the differential equation, this happens when \\(C(t) = C_{\\text{in}}\\). Therefore, the equilibrium concentration of CO2 is 0.06%."
   ]
  }
 ],
 "metadata": {
  "kernelspec": {
   "display_name": "Python 3",
   "language": "python",
   "name": "python3"
  },
  "language_info": {
   "name": "python",
   "version": "3.9.7"
  }
 },
 "nbformat": 4,
 "nbformat_minor": 2
}
